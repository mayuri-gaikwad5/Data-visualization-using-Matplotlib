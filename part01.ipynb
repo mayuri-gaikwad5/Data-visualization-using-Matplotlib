{
 "cells": [
  {
   "cell_type": "markdown",
   "id": "e39ad9b3-d9d1-4f50-951c-178cc76011e5",
   "metadata": {},
   "source": [
    "# Why Data Visualisation"
   ]
  },
  {
   "cell_type": "markdown",
   "id": "11cb59a8-25b6-41ed-9440-d7f342183ebf",
   "metadata": {},
   "source": [
    "## Data visualisation is a quick ,easy way to convey concepts in a universal manner"
   ]
  },
  {
   "cell_type": "markdown",
   "id": "00cd6dae-df31-4c88-bbe5-9cfd1b9d5434",
   "metadata": {},
   "source": [
    "- Data Visualization is the graphical representation of information and data\n",
    "- visual elements like charts,graphs,and maps,data visualization tools provide an accessible way to see and understand trends,outliers,and patterns in data"
   ]
  },
  {
   "cell_type": "markdown",
   "id": "c2df91ff-e961-4a19-ad2a-1118fcca627a",
   "metadata": {},
   "source": [
    "# Types of Data Visualisation in python"
   ]
  },
  {
   "cell_type": "markdown",
   "id": "0d677914-8071-4442-8b50-8f4cb9c30dcb",
   "metadata": {},
   "source": [
    "- matplotlib: low level , provides lots of freedom\n",
    "- pandas visualization: easy to use interface,built on Matplotlib\n",
    "- Seaborn: high-level interface,great default styles\n",
    "- ggplot: based on R;s ggplot2 , uses Grammar of Graphics\n",
    "- ploty: can create interactive plots"
   ]
  },
  {
   "cell_type": "markdown",
   "id": "c489407b-1007-4421-8441-882423223fbd",
   "metadata": {},
   "source": [
    "# What you will learn\n",
    "\n",
    "- what is matplotlib?\n",
    "- Matplotlib Graphs\n",
    "- Installation of matplotlib\n",
    "- importing Matplotlib"
   ]
  },
  {
   "cell_type": "markdown",
   "id": "9e8a44fa-6e66-4e04-83f5-67b4a5cb4d8f",
   "metadata": {},
   "source": [
    "# What is Matplotlib\n",
    "\n",
    "- Matplotlib is a plotting library for the Python programming language and its numerical mathematical extensions NumPy.\n",
    "- Matplotlib is a python library used for data visualization\n",
    "- matplotlib is 2D and 3D plotting python library\n",
    "- It was introduced by john hunter in the year 2002"
   ]
  },
  {
   "cell_type": "markdown",
   "id": "2b4be26c-cbdf-44d3-aacb-024e5e6c7692",
   "metadata": {},
   "source": [
    "# Matplotlib Graphs\n",
    "- Linear Plot\n",
    "- scatter Plot\n",
    "- Bar Plot\n",
    "- Stem Plot\n",
    "- step Plot\n",
    "- Hist Plot\n",
    "- Box Plot\n",
    "- Pie Plot\n",
    "- Fill_Between Plot"
   ]
  },
  {
   "cell_type": "markdown",
   "id": "1f2322a2-095a-441e-abf0-2305e8a44f41",
   "metadata": {},
   "source": [
    "# installation of matplotlib"
   ]
  },
  {
   "cell_type": "code",
   "execution_count": 13,
   "id": "4f814ab5-a729-4c26-9e4f-b45ba6b6d913",
   "metadata": {},
   "outputs": [
    {
     "name": "stdout",
     "output_type": "stream",
     "text": [
      "Requirement already satisfied: matplotlib in c:\\users\\2309m\\anaconda3\\lib\\site-packages (3.8.4)Note: you may need to restart the kernel to use updated packages.\n",
      "\n",
      "Requirement already satisfied: contourpy>=1.0.1 in c:\\users\\2309m\\anaconda3\\lib\\site-packages (from matplotlib) (1.2.0)\n",
      "Requirement already satisfied: cycler>=0.10 in c:\\users\\2309m\\anaconda3\\lib\\site-packages (from matplotlib) (0.11.0)\n",
      "Requirement already satisfied: fonttools>=4.22.0 in c:\\users\\2309m\\anaconda3\\lib\\site-packages (from matplotlib) (4.51.0)\n",
      "Requirement already satisfied: kiwisolver>=1.3.1 in c:\\users\\2309m\\anaconda3\\lib\\site-packages (from matplotlib) (1.4.4)\n",
      "Requirement already satisfied: numpy>=1.21 in c:\\users\\2309m\\anaconda3\\lib\\site-packages (from matplotlib) (1.23.5)\n",
      "Requirement already satisfied: packaging>=20.0 in c:\\users\\2309m\\anaconda3\\lib\\site-packages (from matplotlib) (24.1)\n",
      "Requirement already satisfied: pillow>=8 in c:\\users\\2309m\\anaconda3\\lib\\site-packages (from matplotlib) (10.4.0)\n",
      "Requirement already satisfied: pyparsing>=2.3.1 in c:\\users\\2309m\\anaconda3\\lib\\site-packages (from matplotlib) (3.0.9)\n",
      "Requirement already satisfied: python-dateutil>=2.7 in c:\\users\\2309m\\anaconda3\\lib\\site-packages (from matplotlib) (2.9.0.post0)\n",
      "Requirement already satisfied: six>=1.5 in c:\\users\\2309m\\anaconda3\\lib\\site-packages (from python-dateutil>=2.7->matplotlib) (1.16.0)\n"
     ]
    }
   ],
   "source": [
    "pip install matplotlib"
   ]
  },
  {
   "cell_type": "markdown",
   "id": "4652f08b-171f-4963-bfe5-d534723e1555",
   "metadata": {},
   "source": [
    "# Importing Matplotlib"
   ]
  },
  {
   "cell_type": "code",
   "execution_count": 16,
   "id": "83a3cd19-87ec-4114-99b2-1350138d9d89",
   "metadata": {},
   "outputs": [],
   "source": [
    "import matplotlib.pyplot as plt\n"
   ]
  },
  {
   "cell_type": "markdown",
   "id": "170957df-4109-4507-b571-459f142f6167",
   "metadata": {},
   "source": [
    "## or"
   ]
  },
  {
   "cell_type": "code",
   "execution_count": 18,
   "id": "d6153fbd-88a0-4961-ae22-0a1732acc932",
   "metadata": {},
   "outputs": [],
   "source": [
    "from matplotlib import pyplot as plt"
   ]
  }
 ],
 "metadata": {
  "kernelspec": {
   "display_name": "Python 3 (ipykernel)",
   "language": "python",
   "name": "python3"
  },
  "language_info": {
   "codemirror_mode": {
    "name": "ipython",
    "version": 3
   },
   "file_extension": ".py",
   "mimetype": "text/x-python",
   "name": "python",
   "nbconvert_exporter": "python",
   "pygments_lexer": "ipython3",
   "version": "3.11.7"
  }
 },
 "nbformat": 4,
 "nbformat_minor": 5
}
